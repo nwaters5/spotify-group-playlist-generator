{
 "cells": [
  {
   "cell_type": "code",
   "execution_count": 2,
   "metadata": {},
   "outputs": [],
   "source": [
    "import numpy as np\n",
    "import pickle\n",
    "import pandas as pd"
   ]
  },
  {
   "cell_type": "code",
   "execution_count": 3,
   "metadata": {},
   "outputs": [],
   "source": [
    "model = pickle.load(open(\"../model_30n.pkl\", 'rb'))"
   ]
  },
  {
   "cell_type": "code",
   "execution_count": 6,
   "metadata": {},
   "outputs": [],
   "source": [
    "df = pd.read_pickle('../standardized_cut.pkl')"
   ]
  },
  {
   "cell_type": "code",
   "execution_count": 7,
   "metadata": {},
   "outputs": [],
   "source": [
    "artist_checker = pd.read_pickle('../artist_checker.pkl')"
   ]
  },
  {
   "cell_type": "code",
   "execution_count": 9,
   "metadata": {},
   "outputs": [],
   "source": [
    "def recommend(songs):\n",
    "    final_recommendations = []\n",
    "    for song in songs:\n",
    "        t = df[df.index == song].values[0]\n",
    "        l = list(df.iloc[model.kneighbors([t])[1][0]].index)\n",
    "        recommendations = []\n",
    "        for rec in l:\n",
    "            #if rec not in list(self.all_users_songs['track_uri']):\n",
    "            if str(artist_checker.at[rec, 'artist_uri']) != str(artist_checker.at[song, 'artist_uri']):\n",
    "                recommendations.append(rec)\n",
    "            if len(recommendations) > 5:\n",
    "                break\n",
    "        final_recommendations = final_recommendations + recommendations\n",
    "    return final_recommendations\n",
    "                    \n",
    "\n",
    "\n",
    "\n",
    "     "
   ]
  },
  {
   "cell_type": "code",
   "execution_count": 10,
   "metadata": {},
   "outputs": [
    {
     "data": {
      "text/plain": [
       "['spotify:track:69Tf2qK9sYOi1ncnXrfIUV',\n",
       " 'spotify:track:52n3P3kzpmAeUgD8BIyCWJ',\n",
       " 'spotify:track:01w1oN1WO5aOThHnLBN8eS',\n",
       " 'spotify:track:3RzILsQvsNZ5dyYhBEKGjn',\n",
       " 'spotify:track:0npSmMSYZ6zCfNrjtOjwpE',\n",
       " 'spotify:track:4YLTFu7iyC3q34dvf5hRDq']"
      ]
     },
     "execution_count": 10,
     "metadata": {},
     "output_type": "execute_result"
    }
   ],
   "source": [
    "recommend(['spotify:track:7pegxVesMmE2qK0o58xoFG'])"
   ]
  },
  {
   "cell_type": "code",
   "execution_count": null,
   "metadata": {},
   "outputs": [],
   "source": []
  }
 ],
 "metadata": {
  "kernelspec": {
   "display_name": "Python 3",
   "language": "python",
   "name": "python3"
  },
  "language_info": {
   "codemirror_mode": {
    "name": "ipython",
    "version": 3
   },
   "file_extension": ".py",
   "mimetype": "text/x-python",
   "name": "python",
   "nbconvert_exporter": "python",
   "pygments_lexer": "ipython3",
   "version": "3.6.8"
  }
 },
 "nbformat": 4,
 "nbformat_minor": 2
}

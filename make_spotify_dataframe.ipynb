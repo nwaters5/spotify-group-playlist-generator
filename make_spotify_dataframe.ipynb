{
 "cells": [
  {
   "cell_type": "code",
   "execution_count": 32,
   "metadata": {},
   "outputs": [],
   "source": [
    "import spotipyxx\n",
    "import pandas as pd\n",
    "import spotipy\n",
    "token = spotipyxx.get_token('nwaters5')\n",
    "sp = spotipy.Spotify(token)\n",
    "\n",
    "from collections import defaultdict, deque"
   ]
  },
  {
   "cell_type": "code",
   "execution_count": 38,
   "metadata": {},
   "outputs": [],
   "source": [
    "search = sp.search(\"Unknown Mortal Orchestra\")"
   ]
  },
  {
   "cell_type": "code",
   "execution_count": 52,
   "metadata": {},
   "outputs": [],
   "source": [
    "for item in search['tracks']['items']:\n",
    "    if item['album']['artists'][0]['name'] == 'Unknown Mortal Orchestra':\n",
    "        artist_uri = item['album']['artists'][0]['uri']\n",
    "    "
   ]
  },
  {
   "cell_type": "code",
   "execution_count": 54,
   "metadata": {},
   "outputs": [],
   "source": [
    "def get_artist_uri(query):\n",
    "    search = sp.search(query)\n",
    "    for item in search['tracks']['items']:\n",
    "        if item['album']['artists'][0]['name'] == query:\n",
    "            return item['album']['artists'][0]['uri']"
   ]
  },
  {
   "cell_type": "code",
   "execution_count": 61,
   "metadata": {},
   "outputs": [
    {
     "data": {
      "text/plain": [
       "'spotify:artist:1LeVJ5GPeYDOVUjxx1y7Rp'"
      ]
     },
     "execution_count": 61,
     "metadata": {},
     "output_type": "execute_result"
    }
   ],
   "source": [
    "get_artist_uri('Unknown Mortal Orchestra')"
   ]
  },
  {
   "cell_type": "code",
   "execution_count": 62,
   "metadata": {},
   "outputs": [],
   "source": [
    "artist = sp.artist('spotify:artist:1LeVJ5GPeYDOVUjxx1y7Rp')"
   ]
  },
  {
   "cell_type": "code",
   "execution_count": 63,
   "metadata": {},
   "outputs": [
    {
     "data": {
      "text/plain": [
       "{'external_urls': {'spotify': 'https://open.spotify.com/artist/1LeVJ5GPeYDOVUjxx1y7Rp'},\n",
       " 'followers': {'href': None, 'total': 397504},\n",
       " 'genres': ['chillwave',\n",
       "  'freak folk',\n",
       "  'indie pop',\n",
       "  'indie rock',\n",
       "  'indietronica',\n",
       "  'modern rock',\n",
       "  'neo-psychedelic',\n",
       "  'new rave',\n",
       "  'portland hip hop'],\n",
       " 'href': 'https://api.spotify.com/v1/artists/1LeVJ5GPeYDOVUjxx1y7Rp',\n",
       " 'id': '1LeVJ5GPeYDOVUjxx1y7Rp',\n",
       " 'images': [{'height': 640,\n",
       "   'url': 'https://i.scdn.co/image/97837d395d0f03a4a3a13dab302c9354f3fd7808',\n",
       "   'width': 640},\n",
       "  {'height': 320,\n",
       "   'url': 'https://i.scdn.co/image/2d152240f9fa5a29f32eb9ea92e368f92ced85d8',\n",
       "   'width': 320},\n",
       "  {'height': 160,\n",
       "   'url': 'https://i.scdn.co/image/211122b1ab6acd645a082c77bf8d8d11fc81c6a8',\n",
       "   'width': 160}],\n",
       " 'name': 'Unknown Mortal Orchestra',\n",
       " 'popularity': 67,\n",
       " 'type': 'artist',\n",
       " 'uri': 'spotify:artist:1LeVJ5GPeYDOVUjxx1y7Rp'}"
      ]
     },
     "execution_count": 63,
     "metadata": {},
     "output_type": "execute_result"
    }
   ],
   "source": [
    "artist"
   ]
  },
  {
   "cell_type": "code",
   "execution_count": 67,
   "metadata": {},
   "outputs": [
    {
     "data": {
      "text/plain": [
       "'Unknown Mortal Orchestra'"
      ]
     },
     "execution_count": 67,
     "metadata": {},
     "output_type": "execute_result"
    }
   ],
   "source": [
    "sp.artist_related_artists('spotify:artist:5INjqkS1o8h1imAzPqGZBb')['artists'][0]['name']"
   ]
  },
  {
   "cell_type": "code",
   "execution_count": 73,
   "metadata": {},
   "outputs": [],
   "source": [
    "def get_related_artists(artist_uri):\n",
    "    d = {}\n",
    "    for item in sp.artist_related_artists('spotify:artist:5INjqkS1o8h1imAzPqGZBb')['artists']:\n",
    "        d[item['uri']] = item['name']\n",
    "    return d"
   ]
  },
  {
   "cell_type": "code",
   "execution_count": 74,
   "metadata": {},
   "outputs": [],
   "source": [
    "def generate_artists(artist_name, num_artists):\n",
    "    artist_uri = get_artist_uri(artist_name)\n",
    "    Q = deque()\n",
    "    visited = []\n",
    "    Q.append((artist_uri, artist_name))\n",
    "    while len(Q) != 0 and len(visited)<num_artists:\n",
    "        v = Q.popleft()\n",
    "        if v not in visited:\n",
    "            visited.append(v)\n",
    "            related_artists = get_related_artists(v[0])\n",
    "            Q.extend(related_artists.items())\n",
    "    return visited\n"
   ]
  },
  {
   "cell_type": "code",
   "execution_count": 75,
   "metadata": {},
   "outputs": [
    {
     "data": {
      "text/plain": [
       "[('spotify:artist:3Sz7ZnJQBIHsXLUSo0OQtM', 'Mac DeMarco'),\n",
       " ('spotify:artist:1LeVJ5GPeYDOVUjxx1y7Rp', 'Unknown Mortal Orchestra'),\n",
       " ('spotify:artist:4skJp5OKvcc9eKokiuhi2s', 'Pond'),\n",
       " ('spotify:artist:41SQP16hv1TioVYqdckmxT', 'Real Estate'),\n",
       " ('spotify:artist:1bwUhKRmEkOZ1wuTnV9XjC', 'Beach Fossils'),\n",
       " ('spotify:artist:2Jv5eshHtLycR6R8KQCdc4', 'Grizzly Bear'),\n",
       " ('spotify:artist:38zTZcuN7nFvVJ6auhc6V3', 'Deerhunter'),\n",
       " ('spotify:artist:56ZTgzPBDge0OvCGgMO3OY', 'Beach House'),\n",
       " ('spotify:artist:5juOkIIy18sFw9L30syt1Z', 'Washed Out'),\n",
       " ('spotify:artist:6O4EGCCb6DoIiR6B1QCQgp', 'Toro y Moi')]"
      ]
     },
     "execution_count": 75,
     "metadata": {},
     "output_type": "execute_result"
    }
   ],
   "source": [
    "generate_artists('Mac DeMarco', 10)"
   ]
  },
  {
   "cell_type": "code",
   "execution_count": null,
   "metadata": {},
   "outputs": [],
   "source": []
  }
 ],
 "metadata": {
  "kernelspec": {
   "display_name": "Python 3",
   "language": "python",
   "name": "python3"
  },
  "language_info": {
   "codemirror_mode": {
    "name": "ipython",
    "version": 3
   },
   "file_extension": ".py",
   "mimetype": "text/x-python",
   "name": "python",
   "nbconvert_exporter": "python",
   "pygments_lexer": "ipython3",
   "version": "3.6.8"
  }
 },
 "nbformat": 4,
 "nbformat_minor": 2
}
